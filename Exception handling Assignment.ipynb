{
 "cells": [
  {
   "cell_type": "code",
   "execution_count": 13,
   "metadata": {},
   "outputs": [
    {
     "name": "stdout",
     "output_type": "stream",
     "text": [
      "Cannot divide by zero\n"
     ]
    }
   ],
   "source": [
    "#Write a function to compute 5/0 and use try/except to catch the exceptions.\n",
    "def example_exp(n1,n2):\n",
    "    try:\n",
    "        return(n1 // n2)\n",
    "    except ZeroDivisionError:\n",
    "        print(\"Cannot divide by zero\")\n",
    "        \n",
    "example_exp(5,0)"
   ]
  },
  {
   "cell_type": "code",
   "execution_count": 7,
   "metadata": {},
   "outputs": [
    {
     "name": "stdout",
     "output_type": "stream",
     "text": [
      "Americans Play Baseball\n",
      "Americans Play cricket\n",
      "Americans watch Baseball\n",
      "Americans watch cricket\n",
      "Indians Play Baseball\n",
      "Indians Play cricket\n",
      "Indians watch Baseball\n",
      "Indians watch cricket\n"
     ]
    }
   ],
   "source": [
    "#2. Implement a Python program to generate all sentences where subject is in\n",
    "#[\"Americans\", \"Indians\"] and verb is in [\"Play\", \"watch\"] and the object is in\n",
    "#[\"Baseball\",\"cricket\"].\n",
    "subject = [\"Americans\", \"Indians\"]\n",
    "verb = [\"Play\", \"watch\"]\n",
    "object = [\"Baseball\",\"cricket\"]\n",
    "for x in subject:\n",
    "     for y in verb:\n",
    "         for z in object:\n",
    "             print(x,y,z)\n",
    "# methord 2 here using list comprehension\n",
    "#p = [(x , y, z ) for z in object for y in verb for x in subject ]\n",
    "#print(p)\n"
   ]
  },
  {
   "cell_type": "code",
   "execution_count": null,
   "metadata": {},
   "outputs": [],
   "source": []
  }
 ],
 "metadata": {
  "kernelspec": {
   "display_name": "Python 3",
   "language": "python",
   "name": "python3"
  },
  "language_info": {
   "codemirror_mode": {
    "name": "ipython",
    "version": 3
   },
   "file_extension": ".py",
   "mimetype": "text/x-python",
   "name": "python",
   "nbconvert_exporter": "python",
   "pygments_lexer": "ipython3",
   "version": "3.7.6"
  }
 },
 "nbformat": 4,
 "nbformat_minor": 4
}
