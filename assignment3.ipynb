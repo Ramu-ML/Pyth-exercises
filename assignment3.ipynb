{
 "cells": [
  {
   "cell_type": "code",
   "execution_count": null,
   "metadata": {},
   "outputs": [],
   "source": [
    "#Question 1.1 write a python Program to implement your own myreduce() function which works\n",
    "# exactly like python's built function reduce()"
   ]
  },
  {
   "cell_type": "code",
   "execution_count": 19,
   "metadata": {},
   "outputs": [
    {
     "name": "stdout",
     "output_type": "stream",
     "text": [
      "150\n"
     ]
    }
   ],
   "source": [
    "def mySum(x1,x2):\n",
    "    ''' it will sum the two given numbers '''\n",
    "    return x1+x2\n",
    "\n",
    "def myReduce(mySum,l1):\n",
    "    ''' similar to reduce function , sums up all the elements in a given list '''\n",
    "    sum = 0\n",
    "    for x in l1:\n",
    "        sum = mySum(sum,x)\n",
    "    return sum\n",
    "\n",
    "# main logic\n",
    "sum= myReduce(mySum,[20,30,40,60])\n",
    "print(sum)\n"
   ]
  },
  {
   "cell_type": "code",
   "execution_count": null,
   "metadata": {},
   "outputs": [],
   "source": [
    "#Question 1.2 - Write a Python program to implement your own myfilter() function \n",
    "# which works exactly like python's built-in function filter\n",
    "# see answer below"
   ]
  },
  {
   "cell_type": "code",
   "execution_count": 20,
   "metadata": {},
   "outputs": [
    {
     "name": "stdout",
     "output_type": "stream",
     "text": [
      "6\n",
      "12\n",
      "18\n"
     ]
    }
   ],
   "source": [
    "def myFunc(x):\n",
    "    \n",
    "    ''' return True if given number is even else False'''\n",
    "    if x % 2 == 0:\n",
    "        return  True\n",
    "    else:\n",
    "        return False\n",
    "    \n",
    "def myFilter(myFunc,numbers):\n",
    "    ''' will Filter the given list based on function 'myFunc' logic'''\n",
    "    l1=[]\n",
    "    for x in numbers:\n",
    "        if (myFunc(x)):\n",
    "            l1.append(x)\n",
    "    return l1\n",
    "\n",
    "# main logic\n",
    "# filter the given list to only even numbers list\n",
    "numbers=[1,3,6,7,9,12,18,23,35]\n",
    "\n",
    "# get all even numbers from the given numbers\n",
    "even_numbers=myFilter(myFunc,numbers)\n",
    "\n",
    "#Print even numbers\n",
    "for x in even_numbers:\n",
    "    print(x)\n",
    "\n",
    "    "
   ]
  },
  {
   "cell_type": "code",
   "execution_count": null,
   "metadata": {},
   "outputs": [],
   "source": [
    "# Question 2: #write list comprehensions to produce the following lists'\n",
    "#['x','xx','xxx','xxxx','y','yy','yyy','yyyy','z','zz','zzz','zzzz']\n"
   ]
  },
  {
   "cell_type": "code",
   "execution_count": 10,
   "metadata": {},
   "outputs": [
    {
     "name": "stdout",
     "output_type": "stream",
     "text": [
      "['x', 'xx', 'xxx', 'xxxx', 'y', 'yy', 'yyy', 'yyyy', 'z', 'zz', 'zzz', 'zzzz']\n"
     ]
    }
   ],
   "source": [
    "l1=[a*i for a in 'xyz' for i in range(1,5) ]\n",
    "print(l1)\n"
   ]
  },
  {
   "cell_type": "code",
   "execution_count": null,
   "metadata": {},
   "outputs": [],
   "source": [
    "# Question 2: #write list comprehensions to produce the following lists'\n",
    "['x', 'y', 'z', 'xx', 'yy', 'zz', 'xxx', 'yyy', 'zzz', 'xxxx', 'yyyy', 'zzzz']"
   ]
  },
  {
   "cell_type": "code",
   "execution_count": 9,
   "metadata": {},
   "outputs": [
    {
     "name": "stdout",
     "output_type": "stream",
     "text": [
      "['x', 'y', 'z', 'xx', 'yy', 'zz', 'xxx', 'yyy', 'zzz', 'xxxx', 'yyyy', 'zzzz']\n"
     ]
    }
   ],
   "source": [
    "l1=[a*i for i in range(1,5) for a in 'xyz']\n",
    "print(l1)"
   ]
  },
  {
   "cell_type": "code",
   "execution_count": null,
   "metadata": {},
   "outputs": [],
   "source": [
    "# Question 2: #write list comprehensions to produce the following lists\n",
    "#[[[2], [3], [4], [3], [4], [5], [4], [5], [6]], [2, 3, 4, 5], [3, 4, 5, 6], [4, 5, 6, 7], [5, 6, 7, 8]]"
   ]
  },
  {
   "cell_type": "code",
   "execution_count": 47,
   "metadata": {},
   "outputs": [
    {
     "name": "stdout",
     "output_type": "stream",
     "text": [
      "[[[2], [3], [4], [3], [4], [5], [4], [5], [6]], [2, 3, 4, 5], [3, 4, 5, 6], [4, 5, 6, 7], [5, 6, 7, 8]]\n"
     ]
    }
   ],
   "source": [
    "l1=[ [j for j in range(a,a+1)] for k in range (1,4) for a in range(k+1,k+4)  ]\n",
    "l2=[[b for b in range(2+a,6+a)] for a in range(0,4)]\n",
    "l3=[l1] + l2\n",
    "print(l3)\n"
   ]
  },
  {
   "cell_type": "code",
   "execution_count": null,
   "metadata": {},
   "outputs": [],
   "source": [
    "# Question 2: #write list comprehensions to produce the following lists'\n",
    "#[(1, 1), (2, 1), (3, 1), (1, 2), (2, 2), (3, 2), (1, 3), (2, 3), (3, 3)]"
   ]
  },
  {
   "cell_type": "code",
   "execution_count": 12,
   "metadata": {},
   "outputs": [
    {
     "name": "stdout",
     "output_type": "stream",
     "text": [
      "[(1, 1), (2, 1), (3, 1), (1, 2), (2, 2), (3, 2), (1, 3), (2, 3), (3, 3)]\n"
     ]
    }
   ],
   "source": [
    "l1=[(col,row) for row in range(1,4) for col in range(1,4)]\n",
    "print(l1)"
   ]
  }
 ],
 "metadata": {
  "kernelspec": {
   "display_name": "Python 3",
   "language": "python",
   "name": "python3"
  },
  "language_info": {
   "codemirror_mode": {
    "name": "ipython",
    "version": 3
   },
   "file_extension": ".py",
   "mimetype": "text/x-python",
   "name": "python",
   "nbconvert_exporter": "python",
   "pygments_lexer": "ipython3",
   "version": "3.7.6"
  }
 },
 "nbformat": 4,
 "nbformat_minor": 4
}
