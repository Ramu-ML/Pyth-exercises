{
 "cells": [
  {
   "cell_type": "code",
   "execution_count": 1,
   "metadata": {},
   "outputs": [
    {
     "name": "stdout",
     "output_type": "stream",
     "text": [
      "Enter three lengths of three sides x,y,z5 6 7\n",
      "area = 216.0\n"
     ]
    }
   ],
   "source": [
    "# area of the traingle\n",
    "class traingle:\n",
    "    def __init__(self):\n",
    "        a, b, c= input('Enter three lengths of three sides x,y,z').split()\n",
    "        a=int(a) \n",
    "        b=int(b) \n",
    "        c=int(c)\n",
    "        self=self.t2()\n",
    "        self.area(a,b,c)\n",
    "        \n",
    "    class t2:\n",
    "        def area(self,a,b,c):\n",
    "            s = ( a+ b+c)/2\n",
    "            print( 'area =' , s*(s-a)*(s-b)*(s-c))\n",
    "            \n",
    "            \n",
    "      \n",
    "                                   \n",
    "t1=traingle()\n",
    "\n",
    "                        \n",
    "    "
   ]
  },
  {
   "cell_type": "code",
   "execution_count": 4,
   "metadata": {},
   "outputs": [
    {
     "name": "stdout",
     "output_type": "stream",
     "text": [
      "['abcde', 'abcdefghij']\n"
     ]
    }
   ],
   "source": [
    "#Write a function filter_long_words() that takes a list of words and an integer n and returns\n",
    "#the list of words that are longer than n.\n",
    "def filter_Long_words(words,n):\n",
    "    new_list = []\n",
    "    for var in words:\n",
    "        if len(var) > n:\n",
    "            new_list.append(var)\n",
    "    return new_list\n",
    "\n",
    "org_list=['abcd','abcde','def','abcdefghij']\n",
    "# keep only the words that have length greater than 4\n",
    "n_List = filter_Long_words(org_list,4)\n",
    "print(n_List)\n"
   ]
  },
  {
   "cell_type": "code",
   "execution_count": 6,
   "metadata": {},
   "outputs": [
    {
     "name": "stdout",
     "output_type": "stream",
     "text": [
      "[4, 5, 3, 10]\n"
     ]
    }
   ],
   "source": [
    "#Write a Python program using function concept that maps list of words into a list of integers\n",
    "#representing the lengths of the corresponding words.\n",
    "#Hint: If a list [ ab,cde,erty] is passed on to the python function output should come as [2,3,4]\n",
    "#Here 2,3 and 4 are the lengths of the words in the list.\n",
    "def l_len(l_list):\n",
    "    return len(l_list)\n",
    "\n",
    "o_list=['abcd','abcde','def','abcdefghij']\n",
    "# use map function\n",
    "n1_list = map(l_len,o_list)\n",
    "print(list(n1_list))\n"
   ]
  },
  {
   "cell_type": "code",
   "execution_count": 3,
   "metadata": {},
   "outputs": [
    {
     "name": "stdout",
     "output_type": "stream",
     "text": [
      "please enter the character  C\n",
      "False\n"
     ]
    }
   ],
   "source": [
    "#Write a Python function which takes a character (i.e. a string of length 1) and returns True if\n",
    "#it is a vowel, False otherwise.\n",
    "def isvowelornot(s):\n",
    "    v = ['a','e','i','o','u']\n",
    "    if(s in v):\n",
    "        return True\n",
    "    else:\n",
    "        return False\n",
    "ip=input(\"please enter the character  \")\n",
    "ip=ip.lower()\n",
    "print(isvowelornot(ip))"
   ]
  }
 ],
 "metadata": {
  "kernelspec": {
   "display_name": "Python 3",
   "language": "python",
   "name": "python3"
  },
  "language_info": {
   "codemirror_mode": {
    "name": "ipython",
    "version": 3
   },
   "file_extension": ".py",
   "mimetype": "text/x-python",
   "name": "python",
   "nbconvert_exporter": "python",
   "pygments_lexer": "ipython3",
   "version": "3.7.6"
  }
 },
 "nbformat": 4,
 "nbformat_minor": 4
}
